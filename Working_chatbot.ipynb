{
 "cells": [
  {
   "cell_type": "markdown",
   "id": "a3950809",
   "metadata": {},
   "source": [
    "# 🤖 Intelligent Chatbot with Speech Recognition\n",
    "**Project Type:** AI Chatbot | **Technology Stack:** Python, NLTK, SpeechRecognition\n",
    "\n",
    "---\n",
    "Welcome to the intelligent chatbot project. This notebook demonstrates how to build a conversational agent using NLP and speech recognition technologies. The chatbot interacts using both text and voice input/output.\n"
   ]
  },
  {
   "cell_type": "markdown",
   "id": "bbf8c09c",
   "metadata": {},
   "source": [
    "## 📚 Table of Contents\n",
    "1. [Introduction](#introduction)\n",
    "2. [Library Imports](#library-imports)\n",
    "3. [Data Preparation](#data-preparation)\n",
    "4. [Model Definition](#model-definition)\n",
    "5. [Speech Recognition Integration](#speech-recognition-integration)\n",
    "6. [Chat Interface](#chat-interface)\n",
    "7. [Conclusion](#conclusion)"
   ]
  },
  {
   "cell_type": "markdown",
   "id": "e35ee447",
   "metadata": {},
   "source": [
    "## 🧠 Introduction <a name='introduction'></a>\n",
    "This project aims to simulate a smart chatbot that can understand and respond to user input using both text and speech. It leverages **Natural Language Processing (NLP)** for understanding and generating responses, and **Speech Recognition** for handling audio input."
   ]
  },
  {
   "cell_type": "code",
   "execution_count": 1,
   "id": "8c04f91b-ae76-4428-bbf0-6e1391d4acf2",
   "metadata": {},
   "outputs": [],
   "source": [
    "import nltk\n",
    "import warnings\n",
    "warnings.filterwarnings(\"ignore\")\n",
    "import numpy as np\n",
    "import random\n",
    "import string "
   ]
  },
  {
   "cell_type": "markdown",
   "id": "d30bbd78-176c-4b1b-ae05-bda9939d60da",
   "metadata": {},
   "source": [
    "**NLTK** \n",
    "(Natural Language Toolkit) is a powerful Python library used for natural language processing (NLP).\n",
    "- It helps with tasks like tokenization, stemming, lemmatization, POS tagging, etc.\n",
    "- You'll be using this for breaking text into sentences and words, and processing the chatbot's training data.\n",
    "# random \n",
    "- random module allows you to generate random outputs, which is useful in chatbot responses to keep them from sounding repetitive.\n",
    "\n",
    "For example, it lets you randomly pick a greeting like \"Hi\", \"Hello\", or \"Hey there\".\n",
    "\n",
    "\n"
   ]
  },
  {
   "cell_type": "code",
   "execution_count": 2,
   "id": "f800bd89-a1e5-43be-b19c-b85a28bddf9f",
   "metadata": {},
   "outputs": [],
   "source": [
    "f=open(\"C:/Users/lavan/Downloads/vantharr data science study materials/PROJECTS/CHATBOOT PROJECT/Intelligent-Chatbot-using-Python-with-Speech-main/chatr.txt\",'r',errors = 'ignore')"
   ]
  },
  {
   "cell_type": "code",
   "execution_count": 3,
   "id": "695bf17c-eb26-4e75-891f-13625f9fe6f6",
   "metadata": {},
   "outputs": [],
   "source": [
    "checkpoint = \"./chatbot_weights.ckpt\"\n",
    "raw=f.read()#Reads the entire file content into a string raw.\n",
    "raw=raw.lower()# converts to lowercase"
   ]
  },
  {
   "cell_type": "raw",
   "id": "57866ea6-e30e-4277-be9f-c46ca12d6fc0",
   "metadata": {},
   "source": [
    "import nltk # just run once \n",
    "nltk.download()"
   ]
  },
  {
   "cell_type": "code",
   "execution_count": 4,
   "id": "1de93300-a029-4c63-8704-14d8a35e19e0",
   "metadata": {},
   "outputs": [
    {
     "name": "stdout",
     "output_type": "stream",
     "text": [
      "NLTK version: 3.9.1\n"
     ]
    }
   ],
   "source": [
    "import nltk\n",
    "print(\"NLTK version:\", nltk.__version__)"
   ]
  },
  {
   "cell_type": "code",
   "execution_count": 5,
   "id": "eb873eec-af9e-4cdd-a4bf-cd1ae26703a7",
   "metadata": {},
   "outputs": [],
   "source": [
    "import nltk\n",
    "nltk.data.path.append('C:/Users/lavan/Downloads/vantharr data science study materials/PROJECTS/CHATBOOT PROJECT/Intelligent-Chatbot-using-Python-with-Speech-main/venv//nltk_data')"
   ]
  },
  {
   "cell_type": "raw",
   "id": "9a5c466b-a66f-4681-875d-b1bbcac74828",
   "metadata": {},
   "source": [
    "nltk.download('punkt') # first-time use only"
   ]
  },
  {
   "cell_type": "raw",
   "id": "c2693bce-ea7f-4354-8a6b-0f4eac938428",
   "metadata": {},
   "source": [
    "import nltk    #only first time run this code\n",
    "nltk.download('punkt_tab')"
   ]
  },
  {
   "cell_type": "raw",
   "id": "26067a03-c567-4143-a5c3-27e48935b892",
   "metadata": {},
   "source": [
    "nltk.download('wordnet') # first-time use only"
   ]
  },
  {
   "cell_type": "code",
   "execution_count": 6,
   "id": "54c8d80f-80b0-4080-aa82-ae7cff6f3f0b",
   "metadata": {},
   "outputs": [],
   "source": [
    "sent_tokens = nltk.sent_tokenize(raw)# converts to list of sentences "
   ]
  },
  {
   "cell_type": "code",
   "execution_count": 7,
   "id": "c66531a7-984f-4cb3-9fec-b43d476ff8e1",
   "metadata": {},
   "outputs": [],
   "source": [
    "word_tokens = nltk.word_tokenize(raw)# converts to list of words"
   ]
  },
  {
   "cell_type": "code",
   "execution_count": 8,
   "id": "6871dbb7-5df5-46cf-ae19-fb4d67f639d9",
   "metadata": {},
   "outputs": [
    {
     "data": {
      "text/plain": [
       "['vantharr technologies is a prominent it training institute based in bangalore, india, specializing in upskilling students and professionals through industry-relevant courses.',\n",
       " 'it is not affiliated with iare (institute of aeronautical engineering) and operates independently.']"
      ]
     },
     "execution_count": 8,
     "metadata": {},
     "output_type": "execute_result"
    }
   ],
   "source": [
    "sent_tokens[:2]"
   ]
  },
  {
   "cell_type": "code",
   "execution_count": 9,
   "id": "eac73940-4fd1-42b5-a372-f0b14620edca",
   "metadata": {},
   "outputs": [
    {
     "data": {
      "text/plain": [
       "['vantharr', 'technologies', 'is', 'a', 'prominent']"
      ]
     },
     "execution_count": 9,
     "metadata": {},
     "output_type": "execute_result"
    }
   ],
   "source": [
    "word_tokens[:5]"
   ]
  },
  {
   "cell_type": "code",
   "execution_count": 10,
   "id": "3a37edc2-665f-406c-843a-194ec4de6a02",
   "metadata": {},
   "outputs": [],
   "source": [
    "lemmer = nltk.stem.WordNetLemmatizer() #A lemmatizer reduces words to their base or dictionary form (e.g., “running” → “run”)."
   ]
  },
  {
   "cell_type": "code",
   "execution_count": 11,
   "id": "88a26038-da20-4456-a6d6-dbe2707cdfc4",
   "metadata": {},
   "outputs": [],
   "source": [
    "def LemTokens(tokens):\n",
    "        return [lemmer.lemmatize(token) for token in tokens] #Applies the lemmatizer to each word in a list of tokens."
   ]
  },
  {
   "cell_type": "code",
   "execution_count": 12,
   "id": "e4a808ed-91fa-4437-9da1-a44d941ed5c5",
   "metadata": {},
   "outputs": [],
   "source": [
    "remove_punct_dict = dict((ord(punct), None) for punct in string.punctuation) #Creates a dictionary that maps all punctuation characters to None, for later removal."
   ]
  },
  {
   "cell_type": "code",
   "execution_count": 13,
   "id": "3670bdfe-3509-49a6-81be-bcd612b05c0e",
   "metadata": {},
   "outputs": [],
   "source": [
    "def LemNormalize(text):\n",
    "     return LemTokens(nltk.word_tokenize(text.lower().translate(remove_punct_dict)))"
   ]
  },
  {
   "cell_type": "code",
   "execution_count": 14,
   "id": "be4067ce-f9dc-472e-b200-69359e632ffb",
   "metadata": {},
   "outputs": [],
   "source": [
    "#Final preprocessing function:\n",
    "#Lowercases the text.\n",
    "#Removes punctuation.\n",
    "#Tokenizes.\n",
    "#Lemmatizes the tokens.\n",
    "#This function will be used in TF-IDF vectorization or for chatbot matching.\n",
    "\n",
    "# Text data For Chat Bot interactions\n",
    "Introduce_Ans = [\"My name is PyBot you can called me pi.\",\"My name is PyBot. and my nickname is pi and i am happy to solve your queries\"]\n",
    "GREETING_INPUTS = (\"hello\", \"hi\",\"hiii\",\"hii\",\"hiiii\",\"hiiii\", \"greetings\",\"what's up\",\"hey\",\"what is your name\")\n",
    "GREETING_RESPONSES = [\"hi\", \"hey\", \"hii there\", \"hi there\", \"hello\", \"I am glad! You are talking to me\"]\n",
    "Basic_Q = (\"what is the college location\",\"what is college location\",\"where is college location?\",\"college location.\")\n",
    "Basic_Ans = \"VANTHARR  TECHNOLOGIES  is located Kattigennahalli ,  Yalhanka Bengaluru, Karnataka State\"\n",
    "Basic_Om = (\"What is the Courses provided by Vantharr\",\"Course Name\",\"Services\",)\n",
    "Basic_AnsM = \"Data Science\",\"Machine Learning\",\"Data Analysis\",\"Python Full Stack\",\"Java Full Stack\", \"Digital Marketing\",\"Cloud Computing\"\n",
    "Basic_Qu = (\"who developed you\", \"Developed by\")\n",
    "Basic_An = \"Developed by Lavanya R\"\n"
   ]
  },
  {
   "cell_type": "code",
   "execution_count": 15,
   "id": "acdf2a08-0566-4902-a0b9-64af18cc699c",
   "metadata": {},
   "outputs": [],
   "source": [
    "# Checking for greetings\n",
    "def greeting(sentence): #It’ designed to identify if the sentence is a greeting like “hello”, “hi”, or “hey”.\n",
    "    \"\"\"If user's input is a greeting, return a greeting response\"\"\"\n",
    "    for word in sentence.split(): #Splits the sentence into individual words and loops through each word. For example, \"Hi there\" becomes [\"Hi\", \"there\"].\n",
    "        if word.lower() in GREETING_INPUTS: #Checks if each word (converted to lowercase) is found in a predefined list of greeting keywords (e.g., ['hello', 'hi', 'greetings', 'sup']).\n",
    "            return random.choice(GREETING_RESPONSES)\n",
    "            #If it finds a match, it returns a random greeting response from a list like [\"Hi!\", \"Hey!\", \"Hello!\", \"Greetings!\"].\n",
    "            #Using random.choice() makes the bot sound more natural and less robotic by not repeating the same response.\n"
   ]
  },
  {
   "cell_type": "code",
   "execution_count": 16,
   "id": "29813e8b-23ba-4c20-97d5-d8334dc85c8f",
   "metadata": {},
   "outputs": [],
   "source": [
    "# Checking for Basic_Q\n",
    "def basic(sentence):\n",
    "    for word in Basic_Q:\n",
    "        if sentence.lower() == word:\n",
    "            return Basic_Ans"
   ]
  },
  {
   "cell_type": "code",
   "execution_count": 17,
   "id": "ba59c53c-9cb5-466a-ba5d-01fee892896f",
   "metadata": {},
   "outputs": [],
   "source": [
    "#Checking for Basic_Om\n",
    "def basicM(sentence):\n",
    "    \"\"\"If user's input matches course-related queries, return all courses\"\"\"\n",
    "    sentence = sentence.lower()\n",
    "    for phrase in Basic_Om:\n",
    "        if phrase.lower() in sentence or sentence in phrase.lower():\n",
    "            return \"The courses provided by Vantharr Technologies are:\\n\" + \", \".join(Basic_AnsM)\n"
   ]
  },
  {
   "cell_type": "code",
   "execution_count": 18,
   "id": "55839515-a334-485a-a92a-32c656a000fa",
   "metadata": {},
   "outputs": [],
   "source": [
    "# Checking for Basic_Qu\n",
    "def basic(sentence):\n",
    "    for word in Basic_Qu:\n",
    "        if sentence.lower() == word:\n",
    "            return Basic_An"
   ]
  },
  {
   "cell_type": "markdown",
   "id": "cead0230-45cf-469e-9c1c-b1b405662430",
   "metadata": {},
   "source": [
    "# ➕ TfidfVectorizer:\n",
    "Converts text into numerical features (TF-IDF vectors).\n",
    "\n",
    "Highlights important words in a sentence relative to the whole dataset.\n",
    "\n",
    "# ➕ cosine_similarity:\n",
    "Measures the similarity between two vectors (in this case, user input vs. all known sentences).\n",
    "\n",
    "Returns a value between 0 and 1 — 1 means identical, 0 means completely different.\n",
    "\n"
   ]
  },
  {
   "cell_type": "code",
   "execution_count": 19,
   "id": "d01c4642-a76d-4255-aef7-a77382675af9",
   "metadata": {},
   "outputs": [],
   "source": [
    "# Checking for Introduce\n",
    "def IntroduceMe(sentence): #This is a simple response function triggered when the user asks something like:\"Tell me about you.\"\n",
    "    return random.choice(Introduce_Ans) #It returns a random introduction from a list named Introduce_Ans.\n",
    "\n",
    "\n",
    "from sklearn.feature_extraction.text import TfidfVectorizer\n",
    "from sklearn.metrics.pairwise import cosine_similarity"
   ]
  },
  {
   "cell_type": "code",
   "execution_count": 20,
   "id": "2176bce6-70ef-4771-b96a-cc8920c38c8c",
   "metadata": {},
   "outputs": [],
   "source": [
    "# Generating response\n",
    "def response(user_response):\n",
    "    robo_response=''\n",
    "    sent_tokens.append(user_response) #Temporarily adds the user’s message to the list of known sentences.\n",
    "    \n",
    "    TfidfVec = TfidfVectorizer(tokenizer=LemNormalize, stop_words='english')#Converts all sentences (including the user input) into TF-IDF vectors.\n",
    "    \n",
    "    tfidf = TfidfVec.fit_transform(sent_tokens) #Uses your custom tokenizer LemNormalize to lemmatize and clean text.\n",
    "    \n",
    "    vals = cosine_similarity(tfidf[-1], tfidf) #Compares the user's input vector (tfidf[-1]) with all other vectors\n",
    "    \n",
    "    idx=vals.argsort()[0][-2] \n",
    "    #Finds the index of the second most similar sentence\n",
    "    #The most similar one is the user input itself (at the end), so it takes the second-best match.\n",
    "    \n",
    "    flat = vals.flatten()\n",
    "    flat.sort()\n",
    "    req_tfidf = flat[-2]\n",
    "    #Extracts the cosine similarity value of that second-best match.\n",
    "    \n",
    "    if(req_tfidf==0): #If no match found (i.e., zero similarity), give a fallback message.\n",
    "        robo_response=robo_response+\"I am sorry! I don't understand you For further details mail to lavanya.rk1924@gmail.com\"\n",
    "        return robo_response\n",
    "    else:             #Otherwise, return the best matching sentence as a response.\n",
    "        robo_response = robo_response+sent_tokens[idx]\n",
    "        return robo_response\n",
    "\n",
    "def chat(user_response): \n",
    "#Acts as the main chatbot controller — handling goodbyes, greetings, modules, basic questions, introductions, or fallback to smart response.\n",
    "    user_response=user_response.lower()\n",
    "    keyword = \" module \"\n",
    "    keywordone = \" module\"\n",
    "    keywordsecond = \"module \"\n",
    "    keywordthird = \"module\"\n",
    "    \n",
    "    if user_response not in ['ok bye', 'bye']: #Goodbye Handling\n",
    "        if(user_response=='thanks' or user_response=='thank you' ): #Thank You Handling\n",
    "            flag=False\n",
    "            return \"You are welcome..Thankyou for using pybot\"\n",
    "        elif(basicM(user_response)!=None): #Check for casual or personal questions\n",
    "            return basicM(user_response)\n",
    "        else:\n",
    "            if(user_response.find(keyword) != -1 or user_response.find(keywordone) != -1 or user_response.find(keywordsecond) != -1):\n",
    "            #Presumably responseone() is another TF-IDF function working on sent_tokensone.\n",
    "                return responseone(user_response)\n",
    "                sent_tokensone.remove(user_response)\n",
    "            elif(greeting(user_response)!=None): #Greeting Handling\n",
    "                return greeting(user_response)\n",
    "            #Bot introduction\n",
    "            elif(user_response.find(\"your name\") != -1 or user_response.find(\" your name\") != -1 or user_response.find(\"your name \") != -1 or user_response.find(\" your name \") != -1):\n",
    "                return IntroduceMe(user_response)\n",
    "            elif(basic(user_response)!=None): #Basic predefined FAQs\n",
    "                return basic(user_response)\n",
    "            else:\n",
    "                return response(user_response) #Fallback to smart response\n",
    "                sent_tokens.remove(user_response)\n",
    "                #Suggestion: Move it before the return or handle token removal cleanly outside.\n",
    "                #Consider adding .strip() to inputs to avoid whitespace errors.\n",
    "\n",
    "\n",
    "                \n",
    "    else:\n",
    "        flag=False\n",
    "        return \"Bye! take care...have a nice day!!\"\n",
    "        "
   ]
  },
  {
   "cell_type": "code",
   "execution_count": null,
   "id": "6d803a9d-f6a4-4837-8139-6c780fc2659c",
   "metadata": {},
   "outputs": [],
   "source": []
  },
  {
   "cell_type": "markdown",
   "id": "d1899ad2-5fde-4af6-a40d-d4a9c3c2d928",
   "metadata": {
    "scrolled": true
   },
   "source": [
    "!pip install pyttsx3"
   ]
  },
  {
   "cell_type": "markdown",
   "id": "7be6733a-97ca-4e2b-95e9-1ed8d27b3a0a",
   "metadata": {},
   "source": [
    "# 🔧 from tkinter import *\n",
    "Imports Tkinter, the built-in GUI toolkit in Python.\n",
    "\n",
    "* imports everything (widgets like Button, Label, Entry, etc.).\n",
    "\n",
    "This will be used to build the chatbot's window interface.\n",
    "\n",
    "# 🕓 import time\n",
    "Provides functions to work with time (e.g., delays, timestamps).\n",
    "\n",
    "Might be used for small pauses (time.sleep()) or logging.\n",
    "\n",
    "# 💬 import tkinter.messagebox\n",
    "Imports the messagebox module from Tkinter.\n",
    "\n",
    "Used to show popups like:\n",
    "\n",
    "tkinter.messagebox.showinfo(\"Title\", \"Message\")\n",
    "\n",
    "tkinter.messagebox.showwarning(...), etc.\n",
    "\n",
    "Useful for alerts, confirmations, or error prompts in the GUI.\n",
    "\n",
    "# 🔊 import pyttsx3\n",
    "This is the text-to-speech (TTS) engine.\n",
    "\n",
    "Lets your chatbot speak responses out loud.\n",
    "\n",
    "Works offline and supports multiple voices and rates."
   ]
  },
  {
   "cell_type": "code",
   "execution_count": 21,
   "id": "fa25ae25-dea9-4b3b-8a15-e55f1ae58c74",
   "metadata": {},
   "outputs": [],
   "source": [
    "import tkinter as tk\n",
    "from tkinter import *\n",
    "import tkinter.messagebox\n",
    "import pyttsx3\n",
    "import time\n",
    "import threading"
   ]
  },
  {
   "cell_type": "code",
   "execution_count": null,
   "id": "6aeaa8a7",
   "metadata": {},
   "outputs": [
    {
     "name": "stderr",
     "output_type": "stream",
     "text": [
      "Exception in Tkinter callback\n",
      "Traceback (most recent call last):\n",
      "  File \"D:\\my_program_files\\Lib\\tkinter\\__init__.py\", line 1968, in __call__\n",
      "    return self.func(*args)\n",
      "           ^^^^^^^^^^^^^^^^\n",
      "  File \"C:\\Users\\lavan\\AppData\\Local\\Temp\\ipykernel_19344\\52691605.py\", line 226, in color_theme_turquoise\n",
      "    def color_theme_turquoise(self): self.set_theme(\"#003333\", \"#669999\", \"#FFFFFF\")\n",
      "                                     ^^^^^^^^^^^^^^^^^^^^^^^^^^^^^^^^^^^^^^^^^^^^^^^\n",
      "  File \"C:\\Users\\lavan\\AppData\\Local\\Temp\\ipykernel_19344\\52691605.py\", line 237, in set_theme\n",
      "    self.replay_button.config(bg=text_bg, fg=fg_color, activebackground=text_bg, activeforeground=fg_color)\n",
      "    ^^^^^^^^^^^^^^^^^^\n",
      "AttributeError: 'ChatInterface' object has no attribute 'replay_button'. Did you mean: 'play_button'?\n"
     ]
    }
   ],
   "source": [
    "saved_username = [\"You\"]\n",
    "window_size=\"400x400\"\n",
    "\n",
    "class ChatInterface(Frame):\n",
    "\n",
    "    def __init__(self, master=None):\n",
    "        Frame.__init__(self, master)\n",
    "        self.master = master\n",
    "        # Initialize TTS engine\n",
    "        self.engine = pyttsx3.init()\n",
    "        self.engine.setProperty('rate', 120)\n",
    "        self.engine.setProperty('volume', 1)\n",
    "        self.speaking = False\n",
    "\n",
    "\n",
    "        # Example of setting voice properties\n",
    "        voices = self.engine.getProperty('voices')\n",
    "        self.engine.setProperty('voice', voices[1].id)  # You can try voices[1] for a different voice\n",
    "        self.engine.setProperty('rate', 150)  # Speech rate\n",
    "        self.stop_flag = False\n",
    "        self.speech_lock = threading.Lock()\n",
    "\n",
    "\n",
    "        # sets default bg for top level windows\n",
    "        self.tl_bg = \"#EEEEEE\"\n",
    "        self.tl_bg2 = \"#EEEEEE\"\n",
    "        self.tl_fg = \"#000000\"\n",
    "        self.font = \"Verdana 10\"\n",
    "\n",
    "        menu = Menu(self.master)\n",
    "        self.master.config(menu=menu, bd=5)\n",
    "\n",
    "   # Menu bar\n",
    "\n",
    "    # File\n",
    "        file = Menu(menu, tearoff=0)\n",
    "        menu.add_cascade(label=\"File\", menu=file)\n",
    "        file.add_command(label=\"Clear Chat\", command=self.clear_chat)\n",
    "        file.add_command(label=\"Exit\",command=self.chatexit)\n",
    "\n",
    "    # Options\n",
    "        options = Menu(menu, tearoff=0)\n",
    "        menu.add_cascade(label=\"Options\", menu=options)\n",
    "\n",
    "        \n",
    "\n",
    "        # font\n",
    "        font = Menu(options, tearoff=0)\n",
    "        options.add_cascade(label=\"Font\", menu=font)\n",
    "        font.add_command(label=\"Default\",command=self.font_change_default)\n",
    "        font.add_command(label=\"Times\",command=self.font_change_times)\n",
    "        font.add_command(label=\"System\",command=self.font_change_system)\n",
    "        font.add_command(label=\"Helvetica\",command=self.font_change_helvetica)\n",
    "        font.add_command(label=\"Fixedsys\",command=self.font_change_fixedsys)\n",
    "\n",
    "         # color theme\n",
    "        color_theme = Menu(options, tearoff=0)\n",
    "        options.add_cascade(label=\"Color Theme\", menu=color_theme)\n",
    "        color_theme.add_command(label=\"Default\",command=self.color_theme_default) \n",
    "        color_theme.add_command(label=\"Grey\",command=self.color_theme_grey) \n",
    "        color_theme.add_command(label=\"Blue\",command=self.color_theme_dark_blue) \n",
    "       \n",
    "        color_theme.add_command(label=\"Torque\",command=self.color_theme_turquoise)\n",
    "        color_theme.add_command(label=\"Hacker\",command=self.color_theme_hacker)\n",
    "\n",
    "      \n",
    "        help_option = Menu(menu, tearoff=0)\n",
    "        menu.add_cascade(label=\"Help\", menu=help_option)\n",
    "        help_option.add_command(label=\"About PyBot\", command=self.msg)\n",
    "        help_option.add_command(label=\"Developers\", command=self.about)\n",
    "        help_option.add_command(label=\"Queries\", command = self.Queries)\n",
    "\n",
    "        self.text_frame = Frame(self.master, bd=6)\n",
    "        self.text_frame.pack(expand=True, fill=BOTH)\n",
    "\n",
    "        # scrollbar for text box\n",
    "        self.text_box_scrollbar = Scrollbar(self.text_frame, bd=0)\n",
    "        self.text_box_scrollbar.pack(fill=Y, side=RIGHT)\n",
    "\n",
    "        # contains messages\n",
    "        self.text_box = Text(self.text_frame, yscrollcommand=self.text_box_scrollbar.set, state=DISABLED,\n",
    "                             bd=1, padx=6, pady=6, spacing3=8, wrap=WORD, bg=None, font=\"Verdana 10\", relief=GROOVE,\n",
    "                             width=10, height=1)\n",
    "        self.text_box.pack(expand=True, fill=BOTH)\n",
    "        self.text_box_scrollbar.config(command=self.text_box.yview)\n",
    "\n",
    "        # frame containing user entry field\n",
    "        self.entry_frame = Frame(self.master, bd=1)\n",
    "        self.entry_frame.pack(side=LEFT, fill=BOTH, expand=True)\n",
    "\n",
    "         # entry field\n",
    "        self.entry_field = Entry(self.entry_frame, bd=1, justify=LEFT)\n",
    "        self.entry_field.pack(fill=X, padx=6, pady=6, ipady=3)\n",
    "\n",
    "        # frame containing send button and emoji button\n",
    "        self.send_button_frame = Frame(self.master, bd=0)\n",
    "        self.send_button_frame.pack(fill=BOTH)\n",
    "\n",
    "        # send button\n",
    "        self.send_button = Button(self.send_button_frame, text=\"Send\", width=5, relief=GROOVE, bg='white',\n",
    "                                  bd=1, command=lambda: self.send_message_insert(None), activebackground=\"#FFFFFF\",\n",
    "                                  activeforeground=\"#000000\")\n",
    "        self.send_button.pack(side=LEFT, ipady=8)\n",
    "\n",
    "        # Play Button\n",
    "        self.play_button = Button(self.send_button_frame, text=\"▶\", width=5, relief=GROOVE, command=self.replay_speech)\n",
    "        self.play_button.pack(side=LEFT, ipady=8)\n",
    "\n",
    "        # Stop Button\n",
    "        self.stop_button = Button(self.send_button_frame, text=\"Stop\", width=5, relief=GROOVE,\n",
    "                          bg='white', bd=1, command=self.stop_speaking,\n",
    "                          activebackground=\"#FFFFFF\", activeforeground=\"#000000\")\n",
    "        self.stop_button.pack(side=LEFT, ipady=8)\n",
    "\n",
    "        \n",
    "        self.master.bind(\"<Return>\", self.send_message_insert)\n",
    "        \n",
    "        self.last_sent_label(date=\"No messages sent.\")\n",
    "              \n",
    "    def last_sent_label(self, date):\n",
    "        try:\n",
    "            self.sent_label.destroy()\n",
    "        except AttributeError:\n",
    "            pass\n",
    "\n",
    "        self.sent_label = Label(self.entry_frame, font=\"Verdana 7\", text=date, bg=self.tl_bg2, fg=self.tl_fg)\n",
    "        self.sent_label.pack(side=LEFT, fill=X, padx=3)\n",
    "\n",
    "    def clear_chat(self):\n",
    "        self.text_box.config(state=NORMAL)\n",
    "        self.text_box.delete(1.0, END)\n",
    "        self.text_box.config(state=DISABLED)\n",
    "        self.last_sent_label(date=\"No messages sent.\")\n",
    "\n",
    "    def chatexit(self):\n",
    "        self.master.quit()\n",
    "\n",
    "    def msg(self):\n",
    "        tkinter.messagebox.showinfo(\"PyBOT v1.0\",\"\"\"PyBOT is a chatbot for answering python queries\\n\n",
    "        It is based on retrival-based NLP using pythons NLTK tool-kit module\\nGUI is based on Tkinter\\n\n",
    "        It can answer questions regarding python language for new learner\"\"\")\n",
    "\n",
    "    def about(self):\n",
    "        tkinter.messagebox.showinfo(\"PyBOT Developer\",\n",
    "            \"\"\"Developer: Lavanya R\\nContact: lavanya.rk1924@gmail.com\\n...\n",
    "            About Developer:This chatbot was developed by a passionate Python and data science developer with a strong interest in artificial intelligence and natural language processing.The developer is dedicated to creating intuitive, user-friendly interfaces that make complex technologies accessible to everyone.This project showcases the integration of machine learning with user interface development,demonstrating both technical \n",
    "            skill and a commitment to improving user experiences through smart automation.\"\"\")\n",
    "\n",
    "    def Queries(self):\n",
    "        tkinter.messagebox.showinfo(\"Queries\",\n",
    "            \"\"\"You can ask queries related to Vantharr Technologies...like:\n",
    "            1.what is college location? / where is college location\n",
    "            2.vantharr technologies \n",
    "            3.Courses and placements\n",
    "            4.student reviews\n",
    "            5.who developed pybot?/ your name\n",
    "            6. Overall you can ask any queries related to vantharr technologies\"\"\")\n",
    "\n",
    "    def send_message_insert(self, message):\n",
    "        user_input = self.entry_field.get()\n",
    "        pr1 = \"You : \" + user_input + \"\\n\"\n",
    "        self.text_box.configure(state=NORMAL)\n",
    "        self.text_box.insert(END, pr1)\n",
    "        self.text_box.configure(state=DISABLED)\n",
    "        self.text_box.see(END)\n",
    "\n",
    "        ob = chat(user_input)\n",
    "        pr = \"PyBot : \" + ob + \"\\n\"\n",
    "        self.text_box.configure(state=NORMAL)\n",
    "        self.text_box.insert(END, pr)\n",
    "        self.text_box.configure(state=DISABLED)\n",
    "        self.text_box.see(END)\n",
    "\n",
    "        self.last_sent_label(str(time.strftime(\"Last message sent: \" + '%B %d, %Y' + ' at ' + '%I:%M %p')))\n",
    "\n",
    "        self.entry_field.delete(0, END)\n",
    "    \n",
    "        self.last_bot_response = ob  # ✅ Add this line here to save last response\n",
    "\n",
    "        time.sleep(0)\n",
    "        self.speaking_thread = threading.Thread(target=self.playResponce, args=(ob,))\n",
    "        self.speaking_thread.start()\n",
    "\n",
    "\n",
    "       \n",
    "    def replay_speech(self):\n",
    "        if hasattr(self, 'last_bot_response'):\n",
    "            if not self.speaking:\n",
    "                self.speaking_thread = threading.Thread(target=self.playResponce, args=(self.last_bot_response,))\n",
    "                self.speaking_thread.start()\n",
    "\n",
    "\n",
    "    def playResponce(self, response):\n",
    "        if self.speaking:\n",
    "            return  # Already speaking\n",
    "        self.speaking = True\n",
    "        try:\n",
    "            self.engine.say(response)\n",
    "            self.engine.runAndWait()\n",
    "        except RuntimeError as e:\n",
    "            print(f\"Speech error: {e}\")\n",
    "        self.speaking = False\n",
    "\n",
    "  # ← Add stop_speaking here\n",
    "    def stop_speaking(self):\n",
    "        if self.speaking:\n",
    "            self.engine.stop()\n",
    "            self.speaking = False\n",
    "\n",
    "    # Font settings\n",
    "    def font_change_default(self): self.set_font(\"Verdana 10\")\n",
    "    def font_change_times(self): self.set_font(\"Times\")\n",
    "    def font_change_system(self): self.set_font(\"System\")\n",
    "    def font_change_helvetica(self): self.set_font(\"helvetica 10\")\n",
    "    def font_change_fixedsys(self): self.set_font(\"fixedsys\")\n",
    "\n",
    "    def set_font(self, font):\n",
    "        self.text_box.config(font=font)\n",
    "        self.entry_field.config(font=font)\n",
    "        self.font = font\n",
    "\n",
    "    # Color themes\n",
    "    def color_theme_default(self): self.set_theme(\"#EEEEEE\", \"#FFFFFF\", \"#000000\")\n",
    "    def color_theme_grey(self): self.set_theme(\"#444444\", \"#4f4f4f\", \"#ffffff\")\n",
    "    def color_theme_dark_blue(self): self.set_theme(\"#263b54\", \"#1c2e44\", \"#FFFFFF\")\n",
    "    def color_theme_turquoise(self): self.set_theme(\"#003333\", \"#669999\", \"#FFFFFF\")\n",
    "    def color_theme_hacker(self): self.set_theme(\"#0F0F0F\", \"#0F0F0F\", \"#33FF33\")\n",
    "\n",
    "    def set_theme(self, bg_color, text_bg, fg_color):\n",
    "        self.master.config(bg=bg_color)\n",
    "        self.text_frame.config(bg=bg_color)\n",
    "        self.entry_frame.config(bg=bg_color)\n",
    "        self.text_box.config(bg=text_bg, fg=fg_color)\n",
    "        self.entry_field.config(bg=text_bg, fg=fg_color, insertbackground=fg_color)\n",
    "        self.send_button_frame.config(bg=bg_color)\n",
    "        self.send_button.config(bg=text_bg, fg=fg_color, activebackground=text_bg, activeforeground=fg_color)\n",
    "        self.replay_button.config(bg=text_bg, fg=fg_color, activebackground=text_bg, activeforeground=fg_color)\n",
    "        self.stop_button.config(bg=text_bg, fg=fg_color, activebackground=text_bg, activeforeground=fg_color)\n",
    "        self.sent_label.config(bg=bg_color, fg=fg_color)\n",
    "\n",
    "        self.tl_bg = text_bg\n",
    "        self.tl_bg2 = bg_color\n",
    "        self.tl_fg = fg_color\n",
    "\n",
    "    def default_format(self):\n",
    "        self.font_change_default()\n",
    "        self.color_theme_default()\n",
    "\n",
    "if __name__ == '__main__':\n",
    "    root = Tk()\n",
    "    app = ChatInterface(root)\n",
    "    root.geometry(window_size)\n",
    "    root.title(\"PyBot\")\n",
    "    root.mainloop()\n"
   ]
  },
  {
   "cell_type": "code",
   "execution_count": null,
   "id": "dc8b0c9f-1250-493f-bf28-d45f79ad617d",
   "metadata": {},
   "outputs": [],
   "source": []
  },
  {
   "cell_type": "code",
   "execution_count": null,
   "id": "9f798786-ba46-4065-bd8e-6b83c131d92d",
   "metadata": {},
   "outputs": [],
   "source": []
  }
 ],
 "metadata": {
  "kernelspec": {
   "display_name": "Python 3 (ipykernel)",
   "language": "python",
   "name": "python3"
  },
  "language_info": {
   "codemirror_mode": {
    "name": "ipython",
    "version": 3
   },
   "file_extension": ".py",
   "mimetype": "text/x-python",
   "name": "python",
   "nbconvert_exporter": "python",
   "pygments_lexer": "ipython3",
   "version": "3.12.7"
  }
 },
 "nbformat": 4,
 "nbformat_minor": 5
}
